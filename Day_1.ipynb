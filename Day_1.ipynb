{
  "nbformat": 4,
  "nbformat_minor": 0,
  "metadata": {
    "colab": {
      "provenance": [],
      "authorship_tag": "ABX9TyM4GbBJEwywUqdVvNmqQ/Wa",
      "include_colab_link": true
    },
    "kernelspec": {
      "name": "python3",
      "display_name": "Python 3"
    },
    "language_info": {
      "name": "python"
    }
  },
  "cells": [
    {
      "cell_type": "markdown",
      "metadata": {
        "id": "view-in-github",
        "colab_type": "text"
      },
      "source": [
        "<a href=\"https://colab.research.google.com/github/master-david445/ENG-AI-Bootcamp/blob/main/Day_1.ipynb\" target=\"_parent\"><img src=\"https://colab.research.google.com/assets/colab-badge.svg\" alt=\"Open In Colab\"/></a>"
      ]
    },
    {
      "cell_type": "code",
      "execution_count": null,
      "metadata": {
        "id": "zf4BbOly38mT"
      },
      "outputs": [],
      "source": [
        "name = (input(\"What is your name?\"))\n",
        "age = (input(\"How old are you?\"))\n",
        "stack = (input(\"Whhat is your stack?\"))\n",
        "\n",
        "print(\"Yoo \" + name +  \" you're \" + age + \"years old, nice\")\n",
        "print(\"You love building  \" + stack  + \", cool\")"
      ]
    },
    {
      "cell_type": "markdown",
      "source": [],
      "metadata": {
        "id": "dycGA3rD592g"
      }
    },
    {
      "cell_type": "markdown",
      "metadata": {
        "id": "265db4bd"
      },
      "source": [
        "# Task\n",
        "Push the current notebook to GitHub."
      ]
    },
    {
      "cell_type": "markdown",
      "metadata": {
        "id": "054a9a94"
      },
      "source": [
        "## Authenticate with github\n",
        "\n",
        "### Subtask:\n",
        "Ensure you have authenticated your Google account with GitHub in Colab.\n"
      ]
    },
    {
      "cell_type": "markdown",
      "metadata": {
        "id": "845820f2"
      },
      "source": [
        "## Save a copy in github\n",
        "\n",
        "### Subtask:\n",
        "Save a copy of your notebook to a GitHub repository. This will create a new repository if one doesn't exist, or save the notebook to an existing one.\n"
      ]
    },
    {
      "cell_type": "markdown",
      "metadata": {
        "id": "84a64fec"
      },
      "source": [
        "## Push changes\n",
        "\n",
        "### Subtask:\n",
        "After making changes, commit and push them to your GitHub repository.\n"
      ]
    },
    {
      "cell_type": "markdown",
      "metadata": {
        "id": "d4a7131e"
      },
      "source": [
        "## Summary:\n",
        "\n",
        "## Data Analysis Key Findings\n",
        "\n",
        "* The primary task of pushing the current notebook to GitHub could not be completed due to limitations in the AI's ability to interact with graphical user interfaces (GUIs).\n",
        "* Each subtask, including authenticating with GitHub, saving a copy in GitHub, and pushing changes, required manual interaction with the Google Colab UI, which is not possible for the AI.\n",
        "\n",
        "## Insights or Next Steps\n",
        "\n",
        "* The user needs to manually perform the steps within the Google Colab environment to push the notebook to GitHub.\n",
        "* Future tasks involving direct interaction with GUIs should be identified as requiring manual user intervention.\n"
      ]
    }
  ]
}