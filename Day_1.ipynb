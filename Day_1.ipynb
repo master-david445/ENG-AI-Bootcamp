{
  "nbformat": 4,
  "nbformat_minor": 0,
  "metadata": {
    "colab": {
      "provenance": [],
      "authorship_tag": "ABX9TyPvyjwh5yBr/QITWa263ZD0",
      "include_colab_link": true
    },
    "kernelspec": {
      "name": "python3",
      "display_name": "Python 3"
    },
    "language_info": {
      "name": "python"
    }
  },
  "cells": [
    {
      "cell_type": "markdown",
      "metadata": {
        "id": "view-in-github",
        "colab_type": "text"
      },
      "source": [
        "<a href=\"https://colab.research.google.com/github/master-david445/ENG-AI-Bootcamp/blob/main/Day_1.ipynb\" target=\"_parent\"><img src=\"https://colab.research.google.com/assets/colab-badge.svg\" alt=\"Open In Colab\"/></a>"
      ]
    },
    {
      "cell_type": "code",
      "execution_count": 2,
      "metadata": {
        "id": "zf4BbOly38mT",
        "colab": {
          "base_uri": "https://localhost:8080/"
        },
        "outputId": "695e5117-1460-4833-948d-9395e64d159c"
      },
      "outputs": [
        {
          "output_type": "stream",
          "name": "stdout",
          "text": [
            "What is your name? David \n",
            "How old are you? 19\n",
            "Whhat is your stack? AI/ML systems\n",
            "Yoo David  you're 19 years old, nice\n",
            "You love building  AI/ML systems\n"
          ]
        }
      ],
      "source": [
        "name = (input(\"What is your name? \"))\n",
        "age = (input(\"How old are you? \"))\n",
        "stack = (input(\"Whhat is your stack? \"))\n",
        "\n",
        "print(\"Yoo \" + name +  \" you're \" + age + \" years old, nice\")\n",
        "print(\"You love building  \" + stack)"
      ]
    },
    {
      "cell_type": "markdown",
      "source": [],
      "metadata": {
        "id": "dycGA3rD592g"
      }
    }
  ]
}